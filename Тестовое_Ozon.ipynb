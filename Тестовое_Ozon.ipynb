{
 "cells": [
  {
   "cell_type": "markdown",
   "metadata": {
    "id": "L3VRxBZnAKBV"
   },
   "source": [
    "# Тестовое в OZON"
   ]
  },
  {
   "cell_type": "code",
   "execution_count": 100,
   "metadata": {},
   "outputs": [],
   "source": [
    "import pandas as pd\n",
    "import numpy as np\n",
    "import random\n",
    "import seaborn as sns"
   ]
  },
  {
   "cell_type": "markdown",
   "metadata": {
    "id": "SWI-FAdCAKjs"
   },
   "source": [
    "## Задание 1\n",
    "\n",
    "Для выполнения этого задания требуется сгенерировать `DataFrame` с синтетическими данными. `DataFrame` должен состоять из `10000` строк и `5` колонок. Каждую из колонок мы предлагаем тебе создать и наполнить следующим образом:\n",
    "\n",
    "* 1-я колонка – `user_id` – идентификатор пользователя. Длина `user_id` должна равняться 15-ти символам. Идентификатор состоит из случайной комбинации следующих символов: `\"1234567890abcdefghijk\"`. Для каждой строки в `DataFrame` значение `user_id` формируются случайным образом.\n",
    "\n",
    "* 2-я колонка – `order_number` – номер заказа. Столбец необходимо заполнить случайными значениями в диапазоне от `1` до `10`.\n",
    "\n",
    "* 3-я колонка – `click2delivery` – время, прошедшее с момента оформления заказа до вручения клиенту. Столбец необходимо заполнить случайными значениями из нормального распределения со средним `1440` и стандартным отклонением `200`.\n",
    "\n",
    "* 4-я колонка – `order_items_sum` – общая стоимость заказа. Значения для этого столбца необходимо взять из экспоненциального распределения с параметром `λ = 1`, смещённого на `+1`.\n",
    "\n",
    "* 5-я колонка – `retention` – день жизни покупателя, в который он совершил заказ. Необходимо сгенерировать значения `1, 2, 3, 4, 5` с вероятностями `0.35, 0.25, 0.2, 0.15` и `0.05` соответственно.\n",
    "\n",
    "В случае, если в колонке `user_id` встречаются дублирующиеся значения, оставь только первое из них."
   ]
  },
  {
   "cell_type": "code",
   "execution_count": 5,
   "metadata": {
    "id": "GGG6plnA_ApA"
   },
   "outputs": [
    {
     "data": {
      "text/plain": [
       "'h2ec8dj8de5j3h0'"
      ]
     },
     "execution_count": 5,
     "metadata": {},
     "output_type": "execute_result"
    }
   ],
   "source": [
    "def generate_user_id():\n",
    "    return(''.join(random.choice('1234567890abcdefghijk') for i in range(15)))\n",
    "generate_user_id()"
   ]
  },
  {
   "cell_type": "code",
   "execution_count": 21,
   "metadata": {},
   "outputs": [],
   "source": [
    "n = 1000\n",
    "data = {\n",
    "    'user_id': [generate_user_id() for i in range(n)],\n",
    "    'order_number': np.random.randint(1,11, size = n),\n",
    "    'click2delivery': np.random.normal(1440, 200, size = n),\n",
    "    'order_items_sum': np.random.exponential(1, size = n)+1,\n",
    "    'retention': np.random.choice([1,2,3,4,5], p=[0.35, 0.25, 0.2, 0.15, 0.05], size = n)\n",
    "}"
   ]
  },
  {
   "cell_type": "code",
   "execution_count": 27,
   "metadata": {},
   "outputs": [
    {
     "data": {
      "text/plain": [
       "(1000, 5)"
      ]
     },
     "execution_count": 27,
     "metadata": {},
     "output_type": "execute_result"
    }
   ],
   "source": [
    "df = pd.DataFrame(data)\n",
    "df = df.drop_duplicates('user_id', keep = 'first')\n",
    "df.shape"
   ]
  },
  {
   "cell_type": "markdown",
   "metadata": {
    "id": "aluOEkKhAxMN"
   },
   "source": [
    "## Задание 2\n",
    "\n",
    "Для всех строк исходного датасета, сгруппированных по номеру заказа, посчитать среднее значение времени доставки по группе. Результат необходимо добавить в новый столбец датафрейма."
   ]
  },
  {
   "cell_type": "code",
   "execution_count": 35,
   "metadata": {
    "id": "ikQQtj0jDeeS"
   },
   "outputs": [
    {
     "data": {
      "text/html": [
       "<div>\n",
       "<style scoped>\n",
       "    .dataframe tbody tr th:only-of-type {\n",
       "        vertical-align: middle;\n",
       "    }\n",
       "\n",
       "    .dataframe tbody tr th {\n",
       "        vertical-align: top;\n",
       "    }\n",
       "\n",
       "    .dataframe thead th {\n",
       "        text-align: right;\n",
       "    }\n",
       "</style>\n",
       "<table border=\"1\" class=\"dataframe\">\n",
       "  <thead>\n",
       "    <tr style=\"text-align: right;\">\n",
       "      <th></th>\n",
       "      <th>user_id</th>\n",
       "      <th>order_number</th>\n",
       "      <th>click2delivery</th>\n",
       "      <th>order_items_sum</th>\n",
       "      <th>retention</th>\n",
       "      <th>mean_time_x</th>\n",
       "      <th>mean_time_y</th>\n",
       "    </tr>\n",
       "  </thead>\n",
       "  <tbody>\n",
       "    <tr>\n",
       "      <th>0</th>\n",
       "      <td>5i8h8ei8hh69604</td>\n",
       "      <td>1</td>\n",
       "      <td>1263.274387</td>\n",
       "      <td>1.747438</td>\n",
       "      <td>1</td>\n",
       "      <td>1466.39854</td>\n",
       "      <td>1466.39854</td>\n",
       "    </tr>\n",
       "    <tr>\n",
       "      <th>1</th>\n",
       "      <td>h33g8bd616ji751</td>\n",
       "      <td>1</td>\n",
       "      <td>1215.330603</td>\n",
       "      <td>1.618546</td>\n",
       "      <td>1</td>\n",
       "      <td>1466.39854</td>\n",
       "      <td>1466.39854</td>\n",
       "    </tr>\n",
       "    <tr>\n",
       "      <th>2</th>\n",
       "      <td>h52abhhfb9f2d7b</td>\n",
       "      <td>1</td>\n",
       "      <td>1785.505668</td>\n",
       "      <td>1.576264</td>\n",
       "      <td>3</td>\n",
       "      <td>1466.39854</td>\n",
       "      <td>1466.39854</td>\n",
       "    </tr>\n",
       "    <tr>\n",
       "      <th>3</th>\n",
       "      <td>5i5jei861h9kkha</td>\n",
       "      <td>1</td>\n",
       "      <td>1296.430826</td>\n",
       "      <td>1.308993</td>\n",
       "      <td>4</td>\n",
       "      <td>1466.39854</td>\n",
       "      <td>1466.39854</td>\n",
       "    </tr>\n",
       "    <tr>\n",
       "      <th>4</th>\n",
       "      <td>bb62g61k70f8bh5</td>\n",
       "      <td>1</td>\n",
       "      <td>1464.128270</td>\n",
       "      <td>3.399728</td>\n",
       "      <td>4</td>\n",
       "      <td>1466.39854</td>\n",
       "      <td>1466.39854</td>\n",
       "    </tr>\n",
       "  </tbody>\n",
       "</table>\n",
       "</div>"
      ],
      "text/plain": [
       "           user_id  order_number  click2delivery  order_items_sum  retention  \\\n",
       "0  5i8h8ei8hh69604             1     1263.274387         1.747438          1   \n",
       "1  h33g8bd616ji751             1     1215.330603         1.618546          1   \n",
       "2  h52abhhfb9f2d7b             1     1785.505668         1.576264          3   \n",
       "3  5i5jei861h9kkha             1     1296.430826         1.308993          4   \n",
       "4  bb62g61k70f8bh5             1     1464.128270         3.399728          4   \n",
       "\n",
       "   mean_time_x  mean_time_y  \n",
       "0   1466.39854   1466.39854  \n",
       "1   1466.39854   1466.39854  \n",
       "2   1466.39854   1466.39854  \n",
       "3   1466.39854   1466.39854  \n",
       "4   1466.39854   1466.39854  "
      ]
     },
     "execution_count": 35,
     "metadata": {},
     "output_type": "execute_result"
    }
   ],
   "source": [
    "orders = df.groupby('order_number')['click2delivery'].agg(mean_time = 'mean').reset_index()\n",
    "df = df.merge(orders, on = 'order_number')\n",
    "df.head()"
   ]
  },
  {
   "cell_type": "markdown",
   "metadata": {
    "id": "FeorZxdOGr3i"
   },
   "source": [
    "## Задание 3\n",
    "\n",
    "Отдельной колонкой добавить значения последовательности, начинающейся с `0` и `1`, где каждый следующий элемент является суммой двух предыдущих, умноженных на `0.5`."
   ]
  },
  {
   "cell_type": "code",
   "execution_count": 53,
   "metadata": {
    "id": "4D-kZlxdG1e6"
   },
   "outputs": [],
   "source": [
    "l = [0,1]\n",
    "for i in range(998):\n",
    "    l.append(sum(l[i:i+2:])*0.5)"
   ]
  },
  {
   "cell_type": "code",
   "execution_count": 60,
   "metadata": {},
   "outputs": [
    {
     "data": {
      "text/html": [
       "<div>\n",
       "<style scoped>\n",
       "    .dataframe tbody tr th:only-of-type {\n",
       "        vertical-align: middle;\n",
       "    }\n",
       "\n",
       "    .dataframe tbody tr th {\n",
       "        vertical-align: top;\n",
       "    }\n",
       "\n",
       "    .dataframe thead th {\n",
       "        text-align: right;\n",
       "    }\n",
       "</style>\n",
       "<table border=\"1\" class=\"dataframe\">\n",
       "  <thead>\n",
       "    <tr style=\"text-align: right;\">\n",
       "      <th></th>\n",
       "      <th>user_id</th>\n",
       "      <th>order_number</th>\n",
       "      <th>click2delivery</th>\n",
       "      <th>order_items_sum</th>\n",
       "      <th>retention</th>\n",
       "      <th>mean_time_x</th>\n",
       "      <th>mean_time_y</th>\n",
       "      <th>seq</th>\n",
       "    </tr>\n",
       "  </thead>\n",
       "  <tbody>\n",
       "    <tr>\n",
       "      <th>0</th>\n",
       "      <td>5i8h8ei8hh69604</td>\n",
       "      <td>1</td>\n",
       "      <td>1263.274387</td>\n",
       "      <td>1.747438</td>\n",
       "      <td>1</td>\n",
       "      <td>1466.39854</td>\n",
       "      <td>1466.39854</td>\n",
       "      <td>0.000</td>\n",
       "    </tr>\n",
       "    <tr>\n",
       "      <th>1</th>\n",
       "      <td>h33g8bd616ji751</td>\n",
       "      <td>1</td>\n",
       "      <td>1215.330603</td>\n",
       "      <td>1.618546</td>\n",
       "      <td>1</td>\n",
       "      <td>1466.39854</td>\n",
       "      <td>1466.39854</td>\n",
       "      <td>1.000</td>\n",
       "    </tr>\n",
       "    <tr>\n",
       "      <th>2</th>\n",
       "      <td>h52abhhfb9f2d7b</td>\n",
       "      <td>1</td>\n",
       "      <td>1785.505668</td>\n",
       "      <td>1.576264</td>\n",
       "      <td>3</td>\n",
       "      <td>1466.39854</td>\n",
       "      <td>1466.39854</td>\n",
       "      <td>0.500</td>\n",
       "    </tr>\n",
       "    <tr>\n",
       "      <th>3</th>\n",
       "      <td>5i5jei861h9kkha</td>\n",
       "      <td>1</td>\n",
       "      <td>1296.430826</td>\n",
       "      <td>1.308993</td>\n",
       "      <td>4</td>\n",
       "      <td>1466.39854</td>\n",
       "      <td>1466.39854</td>\n",
       "      <td>0.750</td>\n",
       "    </tr>\n",
       "    <tr>\n",
       "      <th>4</th>\n",
       "      <td>bb62g61k70f8bh5</td>\n",
       "      <td>1</td>\n",
       "      <td>1464.128270</td>\n",
       "      <td>3.399728</td>\n",
       "      <td>4</td>\n",
       "      <td>1466.39854</td>\n",
       "      <td>1466.39854</td>\n",
       "      <td>0.625</td>\n",
       "    </tr>\n",
       "  </tbody>\n",
       "</table>\n",
       "</div>"
      ],
      "text/plain": [
       "           user_id  order_number  click2delivery  order_items_sum  retention  \\\n",
       "0  5i8h8ei8hh69604             1     1263.274387         1.747438          1   \n",
       "1  h33g8bd616ji751             1     1215.330603         1.618546          1   \n",
       "2  h52abhhfb9f2d7b             1     1785.505668         1.576264          3   \n",
       "3  5i5jei861h9kkha             1     1296.430826         1.308993          4   \n",
       "4  bb62g61k70f8bh5             1     1464.128270         3.399728          4   \n",
       "\n",
       "   mean_time_x  mean_time_y    seq  \n",
       "0   1466.39854   1466.39854  0.000  \n",
       "1   1466.39854   1466.39854  1.000  \n",
       "2   1466.39854   1466.39854  0.500  \n",
       "3   1466.39854   1466.39854  0.750  \n",
       "4   1466.39854   1466.39854  0.625  "
      ]
     },
     "execution_count": 60,
     "metadata": {},
     "output_type": "execute_result"
    }
   ],
   "source": [
    "df['seq'] = l\n",
    "df.head()"
   ]
  },
  {
   "cell_type": "markdown",
   "metadata": {
    "id": "5vlr4cy9MZcn"
   },
   "source": [
    "## Задание 4\n",
    "\n",
    "Напиши функцию, которая принимает на вход значение `user_id` и возвращает строку следующего вида: все буквы в той последовательности, в которой они встречаются в `user_id`, затем квадрат числа, полученного из всех цифр в `user_id` в той последовательности, в которой они встречаются в `user_id`.\n",
    "\n",
    "Добавь результат применения этой функции к `user_id` в новый столбец. Использование циклов вне функции запрещено."
   ]
  },
  {
   "cell_type": "code",
   "execution_count": 66,
   "metadata": {
    "id": "93LQRrvHMmHY"
   },
   "outputs": [],
   "source": [
    "def func1(user_id):\n",
    "    alpha = ''.join(filter(str.isalpha, user_id))\n",
    "    numeric = ''.join(filter(str.isdigit, user_id))\n",
    "    res = str(alpha) + str(int(numeric)**2)\n",
    "    return(res)\n"
   ]
  },
  {
   "cell_type": "code",
   "execution_count": 69,
   "metadata": {},
   "outputs": [
    {
     "data": {
      "text/html": [
       "<div>\n",
       "<style scoped>\n",
       "    .dataframe tbody tr th:only-of-type {\n",
       "        vertical-align: middle;\n",
       "    }\n",
       "\n",
       "    .dataframe tbody tr th {\n",
       "        vertical-align: top;\n",
       "    }\n",
       "\n",
       "    .dataframe thead th {\n",
       "        text-align: right;\n",
       "    }\n",
       "</style>\n",
       "<table border=\"1\" class=\"dataframe\">\n",
       "  <thead>\n",
       "    <tr style=\"text-align: right;\">\n",
       "      <th></th>\n",
       "      <th>user_id</th>\n",
       "      <th>order_number</th>\n",
       "      <th>click2delivery</th>\n",
       "      <th>order_items_sum</th>\n",
       "      <th>retention</th>\n",
       "      <th>mean_time_x</th>\n",
       "      <th>mean_time_y</th>\n",
       "      <th>seq</th>\n",
       "      <th>user_id_with_func1</th>\n",
       "    </tr>\n",
       "  </thead>\n",
       "  <tbody>\n",
       "    <tr>\n",
       "      <th>0</th>\n",
       "      <td>5i8h8ei8hh69604</td>\n",
       "      <td>1</td>\n",
       "      <td>1263.274387</td>\n",
       "      <td>1.747438</td>\n",
       "      <td>1</td>\n",
       "      <td>1466.39854</td>\n",
       "      <td>1466.39854</td>\n",
       "      <td>0.000</td>\n",
       "      <td>iheihh346767410515116816</td>\n",
       "    </tr>\n",
       "    <tr>\n",
       "      <th>1</th>\n",
       "      <td>h33g8bd616ji751</td>\n",
       "      <td>1</td>\n",
       "      <td>1215.330603</td>\n",
       "      <td>1.618546</td>\n",
       "      <td>1</td>\n",
       "      <td>1466.39854</td>\n",
       "      <td>1466.39854</td>\n",
       "      <td>1.000</td>\n",
       "      <td>hgbdji114661304057796001</td>\n",
       "    </tr>\n",
       "    <tr>\n",
       "      <th>2</th>\n",
       "      <td>h52abhhfb9f2d7b</td>\n",
       "      <td>1</td>\n",
       "      <td>1785.505668</td>\n",
       "      <td>1.576264</td>\n",
       "      <td>3</td>\n",
       "      <td>1466.39854</td>\n",
       "      <td>1466.39854</td>\n",
       "      <td>0.500</td>\n",
       "      <td>habhhfbfdb2801267329</td>\n",
       "    </tr>\n",
       "    <tr>\n",
       "      <th>3</th>\n",
       "      <td>5i5jei861h9kkha</td>\n",
       "      <td>1</td>\n",
       "      <td>1296.430826</td>\n",
       "      <td>1.308993</td>\n",
       "      <td>4</td>\n",
       "      <td>1466.39854</td>\n",
       "      <td>1466.39854</td>\n",
       "      <td>0.750</td>\n",
       "      <td>ijeihkkha312055187161</td>\n",
       "    </tr>\n",
       "    <tr>\n",
       "      <th>4</th>\n",
       "      <td>bb62g61k70f8bh5</td>\n",
       "      <td>1</td>\n",
       "      <td>1464.128270</td>\n",
       "      <td>3.399728</td>\n",
       "      <td>4</td>\n",
       "      <td>1466.39854</td>\n",
       "      <td>1466.39854</td>\n",
       "      <td>0.625</td>\n",
       "      <td>bbgkfbh3920899333897225</td>\n",
       "    </tr>\n",
       "  </tbody>\n",
       "</table>\n",
       "</div>"
      ],
      "text/plain": [
       "           user_id  order_number  click2delivery  order_items_sum  retention  \\\n",
       "0  5i8h8ei8hh69604             1     1263.274387         1.747438          1   \n",
       "1  h33g8bd616ji751             1     1215.330603         1.618546          1   \n",
       "2  h52abhhfb9f2d7b             1     1785.505668         1.576264          3   \n",
       "3  5i5jei861h9kkha             1     1296.430826         1.308993          4   \n",
       "4  bb62g61k70f8bh5             1     1464.128270         3.399728          4   \n",
       "\n",
       "   mean_time_x  mean_time_y    seq        user_id_with_func1  \n",
       "0   1466.39854   1466.39854  0.000  iheihh346767410515116816  \n",
       "1   1466.39854   1466.39854  1.000  hgbdji114661304057796001  \n",
       "2   1466.39854   1466.39854  0.500      habhhfbfdb2801267329  \n",
       "3   1466.39854   1466.39854  0.750     ijeihkkha312055187161  \n",
       "4   1466.39854   1466.39854  0.625   bbgkfbh3920899333897225  "
      ]
     },
     "execution_count": 69,
     "metadata": {},
     "output_type": "execute_result"
    }
   ],
   "source": [
    "df['user_id_with_func1'] = df['user_id'].apply(lambda x: func1(x))\n",
    "df.head()"
   ]
  },
  {
   "cell_type": "markdown",
   "metadata": {
    "id": "obyPUOsBM_So"
   },
   "source": [
    "## Задание 5\n",
    "\n",
    "Вычисли моду, медиану, среднее, дисперсию и стандартное отклонение для столбцов\n",
    "`click2delivery`, `order_items_sum` и `retention`. Построй гистограммы распределения значений в столбцах."
   ]
  },
  {
   "cell_type": "code",
   "execution_count": 74,
   "metadata": {
    "id": "6mN_uIMLP2U2"
   },
   "outputs": [
    {
     "data": {
      "text/html": [
       "<div>\n",
       "<style scoped>\n",
       "    .dataframe tbody tr th:only-of-type {\n",
       "        vertical-align: middle;\n",
       "    }\n",
       "\n",
       "    .dataframe tbody tr th {\n",
       "        vertical-align: top;\n",
       "    }\n",
       "\n",
       "    .dataframe thead th {\n",
       "        text-align: right;\n",
       "    }\n",
       "</style>\n",
       "<table border=\"1\" class=\"dataframe\">\n",
       "  <thead>\n",
       "    <tr style=\"text-align: right;\">\n",
       "      <th></th>\n",
       "      <th>click2delivery</th>\n",
       "      <th>order_items_sum</th>\n",
       "      <th>retention</th>\n",
       "    </tr>\n",
       "  </thead>\n",
       "  <tbody>\n",
       "    <tr>\n",
       "      <th>50%</th>\n",
       "      <td>1435.484309</td>\n",
       "      <td>1.703635</td>\n",
       "      <td>2.00000</td>\n",
       "    </tr>\n",
       "    <tr>\n",
       "      <th>mean</th>\n",
       "      <td>1435.439268</td>\n",
       "      <td>1.993546</td>\n",
       "      <td>2.30900</td>\n",
       "    </tr>\n",
       "    <tr>\n",
       "      <th>std</th>\n",
       "      <td>207.484790</td>\n",
       "      <td>0.934944</td>\n",
       "      <td>1.23168</td>\n",
       "    </tr>\n",
       "  </tbody>\n",
       "</table>\n",
       "</div>"
      ],
      "text/plain": [
       "      click2delivery  order_items_sum  retention\n",
       "50%      1435.484309         1.703635    2.00000\n",
       "mean     1435.439268         1.993546    2.30900\n",
       "std       207.484790         0.934944    1.23168"
      ]
     },
     "execution_count": 74,
     "metadata": {},
     "output_type": "execute_result"
    }
   ],
   "source": [
    "new_df = df[['click2delivery','order_items_sum','retention']]\n",
    "new_df.describe().loc[['50%','mean','std']]"
   ]
  },
  {
   "cell_type": "code",
   "execution_count": 81,
   "metadata": {},
   "outputs": [
    {
     "data": {
      "text/html": [
       "<div>\n",
       "<style scoped>\n",
       "    .dataframe tbody tr th:only-of-type {\n",
       "        vertical-align: middle;\n",
       "    }\n",
       "\n",
       "    .dataframe tbody tr th {\n",
       "        vertical-align: top;\n",
       "    }\n",
       "\n",
       "    .dataframe thead th {\n",
       "        text-align: right;\n",
       "    }\n",
       "</style>\n",
       "<table border=\"1\" class=\"dataframe\">\n",
       "  <thead>\n",
       "    <tr style=\"text-align: right;\">\n",
       "      <th></th>\n",
       "      <th>click2delivery</th>\n",
       "      <th>order_items_sum</th>\n",
       "      <th>retention</th>\n",
       "    </tr>\n",
       "  </thead>\n",
       "  <tbody>\n",
       "    <tr>\n",
       "      <th>mode</th>\n",
       "      <td>839.031935</td>\n",
       "      <td>1.001699</td>\n",
       "      <td>1.0</td>\n",
       "    </tr>\n",
       "  </tbody>\n",
       "</table>\n",
       "</div>"
      ],
      "text/plain": [
       "      click2delivery  order_items_sum  retention\n",
       "mode      839.031935         1.001699        1.0"
      ]
     },
     "execution_count": 81,
     "metadata": {},
     "output_type": "execute_result"
    }
   ],
   "source": [
    "mode = new_df.mode().head(1).set_index(pd.Index(['mode']))\n",
    "mode"
   ]
  },
  {
   "cell_type": "code",
   "execution_count": 94,
   "metadata": {},
   "outputs": [
    {
     "data": {
      "text/html": [
       "<div>\n",
       "<style scoped>\n",
       "    .dataframe tbody tr th:only-of-type {\n",
       "        vertical-align: middle;\n",
       "    }\n",
       "\n",
       "    .dataframe tbody tr th {\n",
       "        vertical-align: top;\n",
       "    }\n",
       "\n",
       "    .dataframe thead th {\n",
       "        text-align: right;\n",
       "    }\n",
       "</style>\n",
       "<table border=\"1\" class=\"dataframe\">\n",
       "  <thead>\n",
       "    <tr style=\"text-align: right;\">\n",
       "      <th>index</th>\n",
       "      <th>click2delivery</th>\n",
       "      <th>order_items_sum</th>\n",
       "      <th>retention</th>\n",
       "    </tr>\n",
       "  </thead>\n",
       "  <tbody>\n",
       "    <tr>\n",
       "      <th>disp</th>\n",
       "      <td>43049.938073</td>\n",
       "      <td>0.874121</td>\n",
       "      <td>1.517036</td>\n",
       "    </tr>\n",
       "  </tbody>\n",
       "</table>\n",
       "</div>"
      ],
      "text/plain": [
       "index  click2delivery  order_items_sum  retention\n",
       "disp     43049.938073         0.874121   1.517036"
      ]
     },
     "execution_count": 94,
     "metadata": {},
     "output_type": "execute_result"
    }
   ],
   "source": [
    "disper = pd.DataFrame(new_df.var()).reset_index().pivot_table(columns = 'index',values = 0).set_index(pd.Index(['disp']))\n",
    "disper"
   ]
  },
  {
   "cell_type": "code",
   "execution_count": 99,
   "metadata": {},
   "outputs": [
    {
     "data": {
      "text/html": [
       "<div>\n",
       "<style scoped>\n",
       "    .dataframe tbody tr th:only-of-type {\n",
       "        vertical-align: middle;\n",
       "    }\n",
       "\n",
       "    .dataframe tbody tr th {\n",
       "        vertical-align: top;\n",
       "    }\n",
       "\n",
       "    .dataframe thead th {\n",
       "        text-align: right;\n",
       "    }\n",
       "</style>\n",
       "<table border=\"1\" class=\"dataframe\">\n",
       "  <thead>\n",
       "    <tr style=\"text-align: right;\">\n",
       "      <th>index</th>\n",
       "      <th>click2delivery</th>\n",
       "      <th>order_items_sum</th>\n",
       "      <th>retention</th>\n",
       "    </tr>\n",
       "  </thead>\n",
       "  <tbody>\n",
       "    <tr>\n",
       "      <th>mode</th>\n",
       "      <td>839.031935</td>\n",
       "      <td>1.001699</td>\n",
       "      <td>1.000000</td>\n",
       "    </tr>\n",
       "    <tr>\n",
       "      <th>50%</th>\n",
       "      <td>1435.484309</td>\n",
       "      <td>1.703635</td>\n",
       "      <td>2.000000</td>\n",
       "    </tr>\n",
       "    <tr>\n",
       "      <th>mean</th>\n",
       "      <td>1435.439268</td>\n",
       "      <td>1.993546</td>\n",
       "      <td>2.309000</td>\n",
       "    </tr>\n",
       "    <tr>\n",
       "      <th>std</th>\n",
       "      <td>207.484790</td>\n",
       "      <td>0.934944</td>\n",
       "      <td>1.231680</td>\n",
       "    </tr>\n",
       "    <tr>\n",
       "      <th>disp</th>\n",
       "      <td>43049.938073</td>\n",
       "      <td>0.874121</td>\n",
       "      <td>1.517036</td>\n",
       "    </tr>\n",
       "  </tbody>\n",
       "</table>\n",
       "</div>"
      ],
      "text/plain": [
       "index  click2delivery  order_items_sum  retention\n",
       "mode       839.031935         1.001699   1.000000\n",
       "50%       1435.484309         1.703635   2.000000\n",
       "mean      1435.439268         1.993546   2.309000\n",
       "std        207.484790         0.934944   1.231680\n",
       "disp     43049.938073         0.874121   1.517036"
      ]
     },
     "execution_count": 99,
     "metadata": {},
     "output_type": "execute_result"
    }
   ],
   "source": [
    "ex5 = pd.concat([mode,new_df.describe().loc[['50%','mean','std']],disper])\n",
    "ex5"
   ]
  },
  {
   "cell_type": "code",
   "execution_count": 111,
   "metadata": {
    "scrolled": true
   },
   "outputs": [
    {
     "data": {
      "text/plain": [
       "<AxesSubplot:ylabel='order_items_sum'>"
      ]
     },
     "execution_count": 111,
     "metadata": {},
     "output_type": "execute_result"
    },
    {
     "data": {
      "image/png": "[encoded data removed]",
      "text/plain": [
       "<Figure size 432x288 with 1 Axes>"
      ]
     },
     "metadata": {
      "needs_background": "light"
     },
     "output_type": "display_data"
    }
   ],
   "source": [
    "sns.barplot(x = ex5.index, y = ex5['click2delivery']);"
   ]
  },
  {
   "cell_type": "code",
   "execution_count": 112,
   "metadata": {},
   "outputs": [
    {
     "data": {
      "text/plain": [
       "<AxesSubplot:ylabel='order_items_sum'>"
      ]
     },
     "execution_count": 112,
     "metadata": {},
     "output_type": "execute_result"
    },
    {
     "data": {
      "image/png": "[encoded data removed]",
      "text/plain": [
       "<Figure size 432x288 with 1 Axes>"
      ]
     },
     "metadata": {
      "needs_background": "light"
     },
     "output_type": "display_data"
    }
   ],
   "source": [
    "sns.barplot(x = ex5.index, y = ex5['order_items_sum'])"
   ]
  },
  {
   "cell_type": "markdown",
   "metadata": {
    "id": "ifuB3KT8UBzn"
   },
   "source": [
    "## Задание 6\n",
    "\n",
    "Построй график, который наиболее полно, на твой взгляд, описывает зависимость времени доставки заказа от его номера. Обоснуй, почему ты так считаешь?"
   ]
  },
  {
   "cell_type": "code",
   "execution_count": 116,
   "metadata": {
    "id": "G1VISOmaUKfF"
   },
   "outputs": [
    {
     "data": {
      "text/html": [
       "<div>\n",
       "<style scoped>\n",
       "    .dataframe tbody tr th:only-of-type {\n",
       "        vertical-align: middle;\n",
       "    }\n",
       "\n",
       "    .dataframe tbody tr th {\n",
       "        vertical-align: top;\n",
       "    }\n",
       "\n",
       "    .dataframe thead th {\n",
       "        text-align: right;\n",
       "    }\n",
       "</style>\n",
       "<table border=\"1\" class=\"dataframe\">\n",
       "  <thead>\n",
       "    <tr style=\"text-align: right;\">\n",
       "      <th></th>\n",
       "      <th>order_number</th>\n",
       "      <th>click2delivery</th>\n",
       "    </tr>\n",
       "  </thead>\n",
       "  <tbody>\n",
       "    <tr>\n",
       "      <th>0</th>\n",
       "      <td>1</td>\n",
       "      <td>1263.274387</td>\n",
       "    </tr>\n",
       "    <tr>\n",
       "      <th>1</th>\n",
       "      <td>1</td>\n",
       "      <td>1215.330603</td>\n",
       "    </tr>\n",
       "    <tr>\n",
       "      <th>2</th>\n",
       "      <td>1</td>\n",
       "      <td>1785.505668</td>\n",
       "    </tr>\n",
       "    <tr>\n",
       "      <th>3</th>\n",
       "      <td>1</td>\n",
       "      <td>1296.430826</td>\n",
       "    </tr>\n",
       "    <tr>\n",
       "      <th>4</th>\n",
       "      <td>1</td>\n",
       "      <td>1464.128270</td>\n",
       "    </tr>\n",
       "  </tbody>\n",
       "</table>\n",
       "</div>"
      ],
      "text/plain": [
       "   order_number  click2delivery\n",
       "0             1     1263.274387\n",
       "1             1     1215.330603\n",
       "2             1     1785.505668\n",
       "3             1     1296.430826\n",
       "4             1     1464.128270"
      ]
     },
     "execution_count": 116,
     "metadata": {},
     "output_type": "execute_result"
    }
   ],
   "source": [
    "data = df[['order_number','click2delivery']]\n",
    "data.head()"
   ]
  },
  {
   "cell_type": "code",
   "execution_count": 119,
   "metadata": {},
   "outputs": [
    {
     "data": {
      "image/png": "[encoded data removed]",
      "text/plain": [
       "<Figure size 432x288 with 1 Axes>"
      ]
     },
     "metadata": {
      "needs_background": "light"
     },
     "output_type": "display_data"
    }
   ],
   "source": [
    "sns.boxplot(data = data, x = 'order_number', y = 'click2delivery');"
   ]
  },
  {
   "cell_type": "code",
   "execution_count": null,
   "metadata": {},
   "outputs": [],
   "source": []
  }
 ],
 "metadata": {
  "colab": {
   "provenance": []
  },
  "kernelspec": {
   "display_name": "Python 3",
   "language": "python",
   "name": "python3"
  },
  "language_info": {
   "codemirror_mode": {
    "name": "ipython",
    "version": 3
   },
   "file_extension": ".py",
   "mimetype": "text/x-python",
   "name": "python",
   "nbconvert_exporter": "python",
   "pygments_lexer": "ipython3",
   "version": "3.8.5"
  }
 },
 "nbformat": 4,
 "nbformat_minor": 1
}
